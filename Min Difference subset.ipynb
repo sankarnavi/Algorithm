{
  "nbformat": 4,
  "nbformat_minor": 0,
  "metadata": {
    "colab": {
      "name": "Untitled",
      "provenance": [],
      "authorship_tag": "ABX9TyNP6As4OrAhVf8hncDN/W3H",
      "include_colab_link": true
    },
    "kernelspec": {
      "name": "python3",
      "display_name": "Python 3"
    }
  },
  "cells": [
    {
      "cell_type": "markdown",
      "metadata": {
        "id": "view-in-github",
        "colab_type": "text"
      },
      "source": [
        "<a href=\"https://colab.research.google.com/github/sankarnavi/Algorithm/blob/Dynamic-Programing/Min%20Difference%20subset.ipynb\" target=\"_parent\"><img src=\"https://colab.research.google.com/assets/colab-badge.svg\" alt=\"Open In Colab\"/></a>"
      ]
    },
    {
      "cell_type": "code",
      "metadata": {
        "id": "gpBFOHfZp5u9",
        "colab_type": "code",
        "colab": {}
      },
      "source": [
        "Min Difference subset"
      ],
      "execution_count": null,
      "outputs": []
    },
    {
      "cell_type": "code",
      "metadata": {
        "id": "a1nSYd9ZvzF_",
        "colab_type": "code",
        "colab": {
          "base_uri": "https://localhost:8080/",
          "height": 51
        },
        "outputId": "d2d7e021-23ba-4f31-acfd-cc43164826fe"
      },
      "source": [
        "# A Dynamic Programming solution for subset \n",
        "# sum problem Returns true if there is a subset of \n",
        "# set[] with sun equal to given sum \n",
        "\n",
        "# Returns true if there is a subset of set[] \n",
        "# with sun equal to given sum \n",
        "def isSubsetSum(set, n, sum,subset): \n",
        "\t\n",
        "\t# The value of subset[i][j] will be \n",
        "\t# true if there is a \n",
        "\t# subset of set[0..j-1] with sum equal to i \n",
        "\t\n",
        "\t\n",
        "\t# If sum is 0, then answer is true \n",
        "\tfor i in range(n + 1): \n",
        "\t\tsubset[i][0] = True\n",
        "\t\t\n",
        "\t# If sum is not 0 and set is empty, \n",
        "\t# then answer is false \n",
        "\tfor i in range(1, sum + 1): \n",
        "\t\tsubset[0][i]= False\n",
        "\t\t\t\n",
        "\t# Fill the subset table in botton up manner \n",
        "\tfor i in range(1, n + 1): \n",
        "\t\tfor j in range(1, sum + 1): \n",
        "\t\t\tif j<set[i-1]: \n",
        "\t\t\t\tsubset[i][j] = subset[i-1][j] \n",
        "\t\t\tif j>= set[i-1]: \n",
        "\t\t\t\tsubset[i][j] = (subset[i-1][j] +\n",
        "\t\t\t\t\t\t\t\tsubset[i - 1][j-set[i-1]]) \n",
        "        #subset[n][i] +=i\n",
        "\t#print(subset) \n",
        "\treturn subset[n][sum] \n",
        "\t\t\n",
        "# Driver program to test above function \n",
        "if __name__=='__main__': \n",
        "\tset = [1,2,7] \n",
        "\tsum = 10\n",
        "\tn = len(set)\n",
        "\tsubset =([[0 for i in range(sum + 1)] \n",
        "\t\t\tfor i in range(n + 1)]) \n",
        "\tif (isSubsetSum(set, n, sum,subset) == True): \n",
        "\t\tprint(\"Found a subset with given sum\") \n",
        "\telse: \n",
        "\t\tprint(\"No subset with given sum\") \n",
        "\tmn=10\n",
        "\tfor i in range(1,int((sum+1)/2)):\n",
        "\t    subset[n][i] *=i\n",
        "\t    mn =min(mn,sum-2*(subset[n][i]))\n",
        "\tprint(mn)\n",
        "\t#print(subset)"
      ],
      "execution_count": 3,
      "outputs": [
        {
          "output_type": "stream",
          "text": [
            "Found a subset with given sum\n",
            "4\n"
          ],
          "name": "stdout"
        }
      ]
    },
    {
      "cell_type": "markdown",
      "metadata": {
        "id": "4RPe3NbIqBk1",
        "colab_type": "text"
      },
      "source": [
        "The solution :\n",
        "\n",
        "\n",
        "\n",
        "1.   we are using the equal partion question here \n",
        "s1-s2 =0 in the same way here s1-s2=min\n",
        "\n",
        "max sum =sum[array]\n",
        "range =max\n",
        "\n",
        "so sum can be anywhere between 0-10\n",
        "\n",
        "we will use the equal subset equal code to get all the possilbe soln\n",
        "\n",
        "then range=s1+s2\n",
        "so s1=range-s2\n",
        "range -2s1=solution\n",
        "\n",
        "\n"
      ]
    }
  ]
}