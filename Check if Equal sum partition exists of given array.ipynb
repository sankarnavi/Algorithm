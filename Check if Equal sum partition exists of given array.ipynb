{
  "nbformat": 4,
  "nbformat_minor": 0,
  "metadata": {
    "colab": {
      "name": "Untitled",
      "provenance": [],
      "authorship_tag": "ABX9TyNnhiSbv6eViDtZ15yEX3MR",
      "include_colab_link": true
    },
    "kernelspec": {
      "name": "python3",
      "display_name": "Python 3"
    }
  },
  "cells": [
    {
      "cell_type": "markdown",
      "metadata": {
        "id": "view-in-github",
        "colab_type": "text"
      },
      "source": [
        "<a href=\"https://colab.research.google.com/github/sankarnavi/Algorithm/blob/Dynamic-Programing/Check%20if%20Equal%20sum%20partition%20exists%20of%20given%20array.ipynb\" target=\"_parent\"><img src=\"https://colab.research.google.com/assets/colab-badge.svg\" alt=\"Open In Colab\"/></a>"
      ]
    },
    {
      "cell_type": "code",
      "metadata": {
        "id": "gpBFOHfZp5u9",
        "colab_type": "code",
        "colab": {}
      },
      "source": [
        "Check if Equal sum partition exists of given array"
      ],
      "execution_count": null,
      "outputs": []
    },
    {
      "cell_type": "code",
      "metadata": {
        "id": "a1nSYd9ZvzF_",
        "colab_type": "code",
        "colab": {
          "base_uri": "https://localhost:8080/"
        },
        "outputId": "30a721b0-c4e2-4d68-e63c-a7384f93ee31"
      },
      "source": [
        "a=[4,10,4]\n",
        "\n",
        "def cheeckequal(a):\n",
        "    if sum(a)%2 !=0 or len(a)==0 :\n",
        "        return False\n",
        "    total=int(sum(a)/2)\n",
        "    print(total)\n",
        "    arr=[[0 for i in range(total+1)] for i in range(len(a)+1)]\n",
        "    for i in range(len(a)+1):\n",
        "        arr[i][0]=True\n",
        "    for i in range(1,total+1):\n",
        "        arr[0][i]=False\n",
        "    for i in range(1,len(a)+1):\n",
        "        for j in range(1,total+1):\n",
        "            if j<a[i-1]:\n",
        "                arr[i][j]=arr[i-1][j]\n",
        "            if j>=a[i-1]:\n",
        "                arr[i][j]=arr[i-1][j] or arr[i-1][j-a[i-1]]\n",
        "    print(arr)\n",
        "    return arr[len(a)][total]\n",
        "print(cheeckequal(a))"
      ],
      "execution_count": null,
      "outputs": [
        {
          "output_type": "stream",
          "text": [
            "sankar\n"
          ],
          "name": "stdout"
        }
      ]
    },
    {
      "cell_type": "markdown",
      "metadata": {
        "id": "4RPe3NbIqBk1",
        "colab_type": "text"
      },
      "source": [
        "The solution :\n",
        "\n",
        "\n",
        "\n",
        "1.   Checking if total sum is even else false\n",
        "2.   if yes implement total/2 in subset dp to find if that array exist\n",
        "\n"
      ]
    }
  ]
}