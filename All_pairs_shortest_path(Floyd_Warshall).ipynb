{
  "nbformat": 4,
  "nbformat_minor": 0,
  "metadata": {
    "colab": {
      "name": "All pairs shortest path(Floyd Warshall).ipynb",
      "provenance": [],
      "authorship_tag": "ABX9TyNcooZ80lBH0bBKCuK6GX87",
      "include_colab_link": true
    },
    "kernelspec": {
      "name": "python3",
      "display_name": "Python 3"
    }
  },
  "cells": [
    {
      "cell_type": "markdown",
      "metadata": {
        "id": "view-in-github",
        "colab_type": "text"
      },
      "source": [
        "<a href=\"https://colab.research.google.com/github/sankarnavi/Algorithm/blob/Dynamic-Programing/All_pairs_shortest_path(Floyd_Warshall).ipynb\" target=\"_parent\"><img src=\"https://colab.research.google.com/assets/colab-badge.svg\" alt=\"Open In Colab\"/></a>"
      ]
    },
    {
      "cell_type": "markdown",
      "metadata": {
        "id": "R8QTb_ECg6Iv",
        "colab_type": "text"
      },
      "source": [
        "Dynamic Programing\n",
        "\n",
        "All pairs shortest path(Floyd Warshall)\n",
        "\n",
        "> **Indented block**\n",
        "\n"
      ]
    },
    {
      "cell_type": "code",
      "metadata": {
        "id": "eSC6PCW8gzqu",
        "colab_type": "code",
        "colab": {
          "base_uri": "https://localhost:8080/",
          "height": 34
        },
        "outputId": "7467a287-c132-4705-8245-7c6f72c7ab3f"
      },
      "source": [
        "import math\n",
        "a=[[0,3,math.inf,7],[8,0,2,math.inf],[5,math.inf,0,1],[2,math.inf,math.inf,0]]\n",
        "print(a)\n"
      ],
      "execution_count": 2,
      "outputs": [
        {
          "output_type": "stream",
          "text": [
            "[[0, 3, inf, 7], [8, 0, 2, inf], [5, inf, 0, 1], [2, inf, inf, 0]]\n"
          ],
          "name": "stdout"
        }
      ]
    },
    {
      "cell_type": "markdown",
      "metadata": {
        "id": "AabrL-n4iHJq",
        "colab_type": "text"
      },
      "source": [
        "Input=[[0, 3, inf, 7], [8, 0, 2, inf], [5, inf, 0, 1], [2, inf, inf, 0]]"
      ]
    },
    {
      "cell_type": "code",
      "metadata": {
        "id": "d4k-aTsuh7kk",
        "colab_type": "code",
        "colab": {
          "base_uri": "https://localhost:8080/",
          "height": 34
        },
        "outputId": "890f938d-c483-4de4-eb5b-210243242052"
      },
      "source": [
        "for k in range(4):\n",
        "    for i in range(4):\n",
        "        for j in range(4):\n",
        "            a[i][j]=min(a[i][j],a[i][k]+a[k][j])\n",
        "print(a)"
      ],
      "execution_count": 3,
      "outputs": [
        {
          "output_type": "stream",
          "text": [
            "[[0, 3, 5, 6], [5, 0, 2, 3], [3, 6, 0, 1], [2, 5, 7, 0]]\n"
          ],
          "name": "stdout"
        }
      ]
    },
    {
      "cell_type": "markdown",
      "metadata": {
        "id": "68rI27m1h-14",
        "colab_type": "text"
      },
      "source": [
        "Output:\n",
        "[[0, 3, 5, 6], \n",
        "[5, 0, 2, 3], \n",
        "[3, 6, 0, 1],\n",
        "[2, 5, 7, 0]]"
      ]
    }
  ]
}